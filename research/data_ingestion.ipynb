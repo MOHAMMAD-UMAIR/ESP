{
 "cells": [
  {
   "cell_type": "code",
   "execution_count": 2,
   "metadata": {},
   "outputs": [
    {
     "data": {
      "text/plain": [
       "'d:\\\\ESP_workspace\\\\ESP\\\\research'"
      ]
     },
     "execution_count": 2,
     "metadata": {},
     "output_type": "execute_result"
    }
   ],
   "source": [
    "%pwd"
   ]
  },
  {
   "cell_type": "code",
   "execution_count": 3,
   "metadata": {},
   "outputs": [
    {
     "name": "stdout",
     "output_type": "stream",
     "text": [
      "d:\\ESP_workspace\\ESP\n"
     ]
    }
   ],
   "source": [
    "%cd d:\\\\ESP_workspace\\\\ESP"
   ]
  },
  {
   "cell_type": "code",
   "execution_count": 5,
   "metadata": {},
   "outputs": [
    {
     "ename": "SyntaxError",
     "evalue": "unexpected character after line continuation character (3281314187.py, line 1)",
     "output_type": "error",
     "traceback": [
      "\u001b[1;36m  Cell \u001b[1;32mIn[5], line 1\u001b[1;36m\u001b[0m\n\u001b[1;33m    C:\\Users\\umair\\Downloads\\ESP\\data-scientist-challenge\\config\\config.yaml\u001b[0m\n\u001b[1;37m       ^\u001b[0m\n\u001b[1;31mSyntaxError\u001b[0m\u001b[1;31m:\u001b[0m unexpected character after line continuation character\n"
     ]
    }
   ],
   "source": [
    "C:\\Users\\umair\\Downloads\\ESP\\data-scientist-challenge\\config\\config.yaml"
   ]
  },
  {
   "cell_type": "code",
   "execution_count": 6,
   "metadata": {},
   "outputs": [
    {
     "data": {
      "text/plain": [
       "'d:\\\\ESP_workspace\\\\ESP'"
      ]
     },
     "execution_count": 6,
     "metadata": {},
     "output_type": "execute_result"
    }
   ],
   "source": [
    "%pwd"
   ]
  },
  {
   "cell_type": "code",
   "execution_count": null,
   "metadata": {},
   "outputs": [],
   "source": [
    "from dataclasses import dataclass\n",
    "from pathlib import Path\n",
    "\n",
    "\n",
    "@dataclass(frozen=True)\n",
    "class DataIngestionConfig:\n",
    "    root_dir: Path\n",
    "    source_URL: str\n",
    "    local_data_file : Path\n"
   ]
  },
  {
   "cell_type": "code",
   "execution_count": null,
   "metadata": {},
   "outputs": [],
   "source": [
    "from src.mlProject.constants import *\n",
    "from src.mlProject.utils.common import read_yaml,create_directories"
   ]
  },
  {
   "cell_type": "code",
   "execution_count": 12,
   "metadata": {},
   "outputs": [
    {
     "name": "stdout",
     "output_type": "stream",
     "text": [
      "[2023-11-06 23:35:33,829: INFO: main: >>>>>>>>> Stage started : DATA INGESTION ]\n",
      "[2023-11-06 23:35:33,831: INFO: common: yaml file: config\\config.yaml loaded successfully]\n",
      "[2023-11-06 23:35:33,832: INFO: common: yaml file: params.yaml loaded successfully]\n",
      "[2023-11-06 23:35:33,832: INFO: common: yaml file: schema.yaml loaded successfully]\n",
      "[2023-11-06 23:35:33,833: INFO: common: created directory at: artifacts_root]\n",
      "[2023-11-06 23:35:33,833: INFO: common: created directory at: artifacts/data_ingestion]\n",
      "[2023-11-06 23:35:40,277: INFO: data_ingestion: artifacts/data_ingestion/data.json download! with following info: \n",
      "Connection: close\n",
      "Content-Length: 41774949\n",
      "Cache-Control: max-age=300\n",
      "Content-Security-Policy: default-src 'none'; style-src 'unsafe-inline'; sandbox\n",
      "Content-Type: text/plain; charset=utf-8\n",
      "ETag: \"971d15a599178b750ad79e812a0109cbed43a9c7e041cbcfa2d1c909177de098\"\n",
      "Strict-Transport-Security: max-age=31536000\n",
      "X-Content-Type-Options: nosniff\n",
      "X-Frame-Options: deny\n",
      "X-XSS-Protection: 1; mode=block\n",
      "X-GitHub-Request-Id: 867A:A498:20C107A:226A356:65497747\n",
      "Accept-Ranges: bytes\n",
      "Date: Mon, 06 Nov 2023 23:35:33 GMT\n",
      "Via: 1.1 varnish\n",
      "X-Served-By: cache-man4127-MAN\n",
      "X-Cache: HIT\n",
      "X-Cache-Hits: 0\n",
      "X-Timer: S1699313734.790258,VS0,VE1\n",
      "Vary: Authorization,Accept-Encoding,Origin\n",
      "Access-Control-Allow-Origin: *\n",
      "Cross-Origin-Resource-Policy: cross-origin\n",
      "X-Fastly-Request-ID: a9a333b55a3782af58c84169351923096df85335\n",
      "Expires: Mon, 06 Nov 2023 23:40:33 GMT\n",
      "Source-Age: 252\n",
      "\n",
      "]\n",
      "[2023-11-06 23:35:40,277: INFO: main: >>>>>>>> Stage Completed : DATA INGESTION ]\n",
      "[2023-11-06 23:35:40,277: INFO: main: >>>>>>>>> Stage started : DATA TRANSFORMATION]\n",
      "[2023-11-06 23:35:40,278: INFO: common: yaml file: config\\config.yaml loaded successfully]\n",
      "[2023-11-06 23:35:40,278: INFO: common: yaml file: params.yaml loaded successfully]\n",
      "[2023-11-06 23:35:40,279: INFO: common: yaml file: schema.yaml loaded successfully]\n",
      "[2023-11-06 23:35:40,279: INFO: common: created directory at: artifacts_root]\n",
      "[2023-11-06 23:35:40,279: INFO: common: created directory at: artifacts/data_transformation]\n",
      "artifacts\\data_ingestion\\data.json\n",
      "                                             attack_id  ... is_subtechnique\n",
      "0    attack-pattern--0042a9f5-f053-4769-b3ef-9ad018...  ...            True\n",
      "1    attack-pattern--005a06c6-14bf-4118-afa0-ebcd8a...  ...            True\n",
      "2    attack-pattern--005cc321-08ce-4d17-b1ea-cb5275...  ...            True\n",
      "3    attack-pattern--00d0b012-8a03-410e-95de-5826bf...  ...           False\n",
      "4    attack-pattern--00f90846-cbd1-4fc5-9233-df5c2b...  ...            True\n",
      "..                                                 ...  ...             ...\n",
      "763  attack-pattern--ff73aa03-0090-4464-83ac-f89e23...  ...           False\n",
      "764  attack-pattern--ffbcfdb0-de22-4106-9ed3-fc23c8...  ...            True\n",
      "765  attack-pattern--ffe59ad3-ad9b-4b9f-b74f-5beb3c...  ...            True\n",
      "766  attack-pattern--ffe742ed-9100-4686-9e00-c331da...  ...           False\n",
      "767  attack-pattern--ffeb0780-356e-4261-b036-cfb6bd...  ...            True\n",
      "\n",
      "[768 rows x 3 columns]\n",
      "[2023-11-06 23:35:40,929: INFO: common: Data frame created for malwares ]\n",
      "[2023-11-06 23:35:41,129: INFO: common: Data frame created for relationship types ]\n",
      "[2023-11-06 23:35:41,267: INFO: common: Data frame created for intrusion-sets]\n",
      "[2023-11-06 23:35:41,572: INFO: common: Data frame created for campaign types ]\n",
      "[2023-11-06 23:35:41,715: INFO: common: Data frames creation done ]\n",
      "[2023-11-06 23:35:41,729: INFO: data_transformation: Data_extracted and splitted]\n",
      "[2023-11-06 23:35:41,757: INFO: common: Table operations performed ]\n",
      "[2023-11-06 23:35:41,758: INFO: common:                                                attack_id  ... campaign_name\n",
      "0      attack-pattern--0042a9f5-f053-4769-b3ef-9ad018...  ...           NaN\n",
      "1      attack-pattern--0042a9f5-f053-4769-b3ef-9ad018...  ...           NaN\n",
      "2      attack-pattern--005a06c6-14bf-4118-afa0-ebcd8a...  ...           NaN\n",
      "3      attack-pattern--005a06c6-14bf-4118-afa0-ebcd8a...  ...           NaN\n",
      "4      attack-pattern--005a06c6-14bf-4118-afa0-ebcd8a...  ...           NaN\n",
      "...                                                  ...  ...           ...\n",
      "13940  attack-pattern--ffe59ad3-ad9b-4b9f-b74f-5beb3c...  ...           NaN\n",
      "13941  attack-pattern--ffe59ad3-ad9b-4b9f-b74f-5beb3c...  ...           NaN\n",
      "13942  attack-pattern--ffe742ed-9100-4686-9e00-c331da...  ...           NaN\n",
      "13943  attack-pattern--ffeb0780-356e-4261-b036-cfb6bd...  ...           NaN\n",
      "13944  attack-pattern--ffeb0780-356e-4261-b036-cfb6bd...  ...           NaN\n",
      "\n",
      "[13945 rows x 10 columns]]\n",
      "[2023-11-06 23:35:42,362: INFO: common: Result dict made ]\n",
      "[2023-11-06 23:35:42,393: INFO: data_transformation: JSON data_extracted and splitted]\n",
      "[2023-11-06 23:35:42,397: INFO: main: >>>>>>>> Stage Completed : DATA TRANSFORMATION]\n"
     ]
    }
   ],
   "source": [
    "!python main.py"
   ]
  },
  {
   "cell_type": "code",
   "execution_count": null,
   "metadata": {},
   "outputs": [],
   "source": [
    "#updating the configuration\n",
    "\n",
    "class ConfigurationManager:\n",
    "    def __init__(\n",
    "        self,\n",
    "        config_filepath = CONFIG_FILE_PATH,\n",
    "        params_filepath = PARAMS_FILE_PATH,\n",
    "        schema_filepath = SCHEMA_FILE_PATH):\n",
    "\n",
    "        self.config = read_yaml(config_filepath)\n",
    "        self.params = read_yaml(params_filepath)\n",
    "        self.schema = read_yaml(schema_filepath)\n",
    "\n",
    "        create_directories([self.config.artifacts_root])\n",
    "\n",
    "\n",
    "    \n",
    "    def get_data_ingestion_config(self) -> DataIngestionConfig:\n",
    "        config = self.config.data_ingestion\n",
    "\n",
    "        create_directories([config.root_dir])\n",
    "\n",
    "        data_ingestion_config = DataIngestionConfig(\n",
    "            root_dir=config.root_dir,\n",
    "            source_URL=config.source_URL,\n",
    "            local_data_file=config.local_data_file,\n",
    "\n",
    "        )\n",
    "\n",
    "        return data_ingestion_config"
   ]
  },
  {
   "cell_type": "code",
   "execution_count": null,
   "metadata": {},
   "outputs": [],
   "source": [
    "#downloading  the data \n",
    "import os\n",
    "import urllib.request as request\n",
    "from src.mlProject import logger\n",
    "from src.mlProject.utils.common import get_size"
   ]
  },
  {
   "cell_type": "code",
   "execution_count": null,
   "metadata": {},
   "outputs": [],
   "source": [
    "# Downloading the data  \n",
    "class DataIngestion:\n",
    "    def __init__(self, config: DataIngestionConfig):\n",
    "        self.config = config\n",
    "\n",
    "\n",
    "    \n",
    "    def download_file(self):\n",
    "        #print(type(self.config.local_data_file))\n",
    "        if not os.path.exists(self.config.local_data_file):\n",
    "            filename, headers = request.urlretrieve(\n",
    "                url = self.config.source_URL,\n",
    "                filename = self.config.local_data_file\n",
    "            )\n",
    "            logger.info(f\"{filename} download! with following info: \\n{headers}\")\n",
    "        else:\n",
    "            logger.info(f\"File already exists of size: {get_size(Path(self.config.local_data_file))}\")\n",
    "\n",
    "\n",
    "  "
   ]
  },
  {
   "cell_type": "code",
   "execution_count": null,
   "metadata": {},
   "outputs": [
    {
     "name": "stdout",
     "output_type": "stream",
     "text": [
      "[2023-11-06 05:01:07,719: INFO: common: yaml file: config\\config.yaml loaded successfully]\n",
      "[2023-11-06 05:01:07,723: INFO: common: yaml file: params.yaml loaded successfully]\n",
      "[2023-11-06 05:01:07,727: INFO: common: yaml file: schema.yaml loaded successfully]\n",
      "[2023-11-06 05:01:07,729: INFO: common: created directory at: artifacts_root]\n",
      "[2023-11-06 05:01:07,731: INFO: common: created directory at: artifacts/data_ingestion]\n",
      "<class 'str'>\n",
      "[2023-11-06 05:01:07,733: INFO: 816873693: File already exists of size: ~ 40796 KB]\n"
     ]
    }
   ],
   "source": [
    "try:\n",
    "    config = ConfigurationManager()\n",
    "    data_ingestion_config = config.get_data_ingestion_config()\n",
    "    data_ingestion = DataIngestion(config=data_ingestion_config)\n",
    "    data_ingestion.download_file()\n",
    "except Exception as e:\n",
    "    raise e"
   ]
  },
  {
   "cell_type": "code",
   "execution_count": null,
   "metadata": {},
   "outputs": [],
   "source": []
  }
 ],
 "metadata": {
  "kernelspec": {
   "display_name": "ESP",
   "language": "python",
   "name": "python3"
  },
  "language_info": {
   "codemirror_mode": {
    "name": "ipython",
    "version": 3
   },
   "file_extension": ".py",
   "mimetype": "text/x-python",
   "name": "python",
   "nbconvert_exporter": "python",
   "pygments_lexer": "ipython3",
   "version": "3.12.0"
  }
 },
 "nbformat": 4,
 "nbformat_minor": 2
}
