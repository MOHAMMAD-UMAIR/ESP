{
 "cells": [
  {
   "cell_type": "code",
   "execution_count": 1,
   "metadata": {},
   "outputs": [
    {
     "data": {
      "text/plain": [
       "'c:\\\\Users\\\\umair\\\\Downloads\\\\ESP\\\\data-scientist-challenge\\\\research'"
      ]
     },
     "execution_count": 1,
     "metadata": {},
     "output_type": "execute_result"
    }
   ],
   "source": [
    "%pwd"
   ]
  },
  {
   "cell_type": "code",
   "execution_count": 2,
   "metadata": {},
   "outputs": [
    {
     "name": "stdout",
     "output_type": "stream",
     "text": [
      "c:\\Users\\umair\\Downloads\\ESP\\data-scientist-challenge\n"
     ]
    }
   ],
   "source": [
    "%cd c:\\Users\\umair\\Downloads\\ESP\\data-scientist-challenge"
   ]
  },
  {
   "cell_type": "code",
   "execution_count": 3,
   "metadata": {},
   "outputs": [
    {
     "data": {
      "text/plain": [
       "'c:\\\\Users\\\\umair\\\\Downloads\\\\ESP\\\\data-scientist-challenge'"
      ]
     },
     "execution_count": 3,
     "metadata": {},
     "output_type": "execute_result"
    }
   ],
   "source": [
    "%pwd"
   ]
  },
  {
   "cell_type": "code",
   "execution_count": 4,
   "metadata": {},
   "outputs": [],
   "source": [
    "\n",
    "from dataclasses import dataclass\n",
    "from pathlib import Path\n",
    "\n",
    "@dataclass(frozen=True)\n",
    "class DataTransformationConfig:\n",
    "    root_dir: Path\n",
    "    data_file: Path\n",
    "    JSON_extract: Path\n"
   ]
  },
  {
   "cell_type": "code",
   "execution_count": 5,
   "metadata": {},
   "outputs": [],
   "source": [
    "from src.mlProject.constants import *\n",
    "from src.mlProject.utils.common import *"
   ]
  },
  {
   "cell_type": "code",
   "execution_count": 6,
   "metadata": {},
   "outputs": [],
   "source": [
    "\n",
    "class ConfigurationManager:\n",
    "    def __init__(\n",
    "        self,\n",
    "        config_filepath = CONFIG_FILE_PATH,\n",
    "        params_filepath = PARAMS_FILE_PATH,\n",
    "        schema_filepath = SCHEMA_FILE_PATH):\n",
    "\n",
    "        self.config = read_yaml(config_filepath)\n",
    "        self.params = read_yaml(params_filepath)\n",
    "        self.schema = read_yaml(schema_filepath)\n",
    "\n",
    "        create_directories([self.config.artifacts_root])\n",
    "\n",
    "\n",
    "    \n",
    "    def get_data_transformation_config(self) -> DataTransformationConfig:\n",
    "        config = self.config.data_transformation\n",
    "\n",
    "        create_directories([config.root_dir])\n",
    "\n",
    "        data_transformation_config = DataTransformationConfig(\n",
    "            root_dir=config.root_dir,\n",
    "            data_file=config.data_file,\n",
    "            JSON_extract=config.JSON_extract\n",
    "        )\n",
    "\n",
    "        return data_transformation_config"
   ]
  },
  {
   "cell_type": "code",
   "execution_count": 7,
   "metadata": {},
   "outputs": [],
   "source": [
    "import os\n",
    "from src.mlProject import logger\n",
    "import pandas as pd"
   ]
  },
  {
   "cell_type": "code",
   "execution_count": 8,
   "metadata": {},
   "outputs": [],
   "source": [
    "class DataTransformation:\n",
    "    def __init__(self, config: DataTransformationConfig):\n",
    "        self.config = config\n",
    "\n",
    "\n",
    "    def extract_split(self):\n",
    "        print(Path(self.config.data_file))\n",
    "        \n",
    "        #content=load_json(Path(self.config.data_file))\n",
    "        df_attack, df_campaign, df_intrusion, df_malware, df_relationship = load_create_df(Path(self.config.data_file))\n",
    "        logger.info(\"Data_extracted and splitted\")\n",
    "\n",
    "        df_relationship = df_relationship[df_relationship['relationship_type'].isin(['uses', 'subtechnique-of'])]\n",
    "        attack_to_adversery(df_attack,df_relationship,df_intrusion,df_campaign,Path(self.config.JSON_extract))\n",
    "        \n",
    "\n",
    "        logger.info(\"JSON data_extracted and splitted\")\n",
    "\n",
    "        \n",
    "\n",
    "        "
   ]
  },
  {
   "cell_type": "code",
   "execution_count": 9,
   "metadata": {},
   "outputs": [
    {
     "name": "stdout",
     "output_type": "stream",
     "text": [
      "[2023-11-06 12:29:47,539: INFO: common: yaml file: config\\config.yaml loaded successfully]\n",
      "[2023-11-06 12:29:47,541: INFO: common: yaml file: params.yaml loaded successfully]\n",
      "[2023-11-06 12:29:47,544: INFO: common: yaml file: schema.yaml loaded successfully]\n",
      "[2023-11-06 12:29:47,545: INFO: common: created directory at: artifacts_root]\n",
      "[2023-11-06 12:29:47,546: INFO: common: created directory at: artifacts/data_transformation]\n",
      "artifacts\\data_ingestion\\data.json\n",
      "                                                    id  \\\n",
      "0    attack-pattern--0042a9f5-f053-4769-b3ef-9ad018...   \n",
      "1    attack-pattern--005a06c6-14bf-4118-afa0-ebcd8a...   \n",
      "2    attack-pattern--005cc321-08ce-4d17-b1ea-cb5275...   \n",
      "3    attack-pattern--00d0b012-8a03-410e-95de-5826bf...   \n",
      "4    attack-pattern--00f90846-cbd1-4fc5-9233-df5c2b...   \n",
      "..                                                 ...   \n",
      "763  attack-pattern--ff73aa03-0090-4464-83ac-f89e23...   \n",
      "764  attack-pattern--ffbcfdb0-de22-4106-9ed3-fc23c8...   \n",
      "765  attack-pattern--ffe59ad3-ad9b-4b9f-b74f-5beb3c...   \n",
      "766  attack-pattern--ffe742ed-9100-4686-9e00-c331da...   \n",
      "767  attack-pattern--ffeb0780-356e-4261-b036-cfb6bd...   \n",
      "\n",
      "                              name  x_mitre_is_subtechnique  \n",
      "0    Extra Window Memory Injection                     True  \n",
      "1                   Scheduled Task                     True  \n",
      "2                   Socket Filters                     True  \n",
      "3     Indicator Removal from Tools                    False  \n",
      "4              Archive via Utility                     True  \n",
      "..                             ...                      ...  \n",
      "763         System Shutdown/Reboot                    False  \n",
      "764                            MMC                     True  \n",
      "765      Process Argument Spoofing                     True  \n",
      "766           Windows Admin Shares                    False  \n",
      "767                   COR_PROFILER                     True  \n",
      "\n",
      "[768 rows x 3 columns]\n",
      "[2023-11-06 12:29:47,863: INFO: common: Data frame created for attack types ]\n",
      "[2023-11-06 12:29:47,986: INFO: common: Data frame created for malwares ]\n",
      "[2023-11-06 12:29:48,144: INFO: common: Data frame created for relationship types ]\n",
      "[2023-11-06 12:29:48,270: INFO: common: Data frame created for intrusion-sets]\n",
      "[2023-11-06 12:29:48,393: INFO: common: Data frame created for campaign types ]\n",
      "[2023-11-06 12:29:48,394: INFO: common: Data frames creation done ]\n",
      "[2023-11-06 12:29:48,409: INFO: 2204960481: Data_extracted and splitted]\n",
      "[2023-11-06 12:29:48,435: INFO: common: Table operations performed ]\n",
      "[2023-11-06 12:29:48,898: INFO: common: Result dict made ]\n",
      "[2023-11-06 12:29:48,930: INFO: 2204960481: JSON data_extracted and splitted]\n"
     ]
    }
   ],
   "source": [
    "try:\n",
    "    config = ConfigurationManager()\n",
    "    data_transformation_config = config.get_data_transformation_config()\n",
    "    data_transformation = DataTransformation(config=data_transformation_config)\n",
    "    data_transformation.extract_split()\n",
    "except Exception as e:\n",
    "     raise e"
   ]
  },
  {
   "cell_type": "code",
   "execution_count": null,
   "metadata": {},
   "outputs": [],
   "source": []
  },
  {
   "cell_type": "code",
   "execution_count": null,
   "metadata": {},
   "outputs": [],
   "source": []
  }
 ],
 "metadata": {
  "kernelspec": {
   "display_name": "ESP",
   "language": "python",
   "name": "python3"
  },
  "language_info": {
   "codemirror_mode": {
    "name": "ipython",
    "version": 3
   },
   "file_extension": ".py",
   "mimetype": "text/x-python",
   "name": "python",
   "nbconvert_exporter": "python",
   "pygments_lexer": "ipython3",
   "version": "3.12.0"
  }
 },
 "nbformat": 4,
 "nbformat_minor": 2
}
