{
 "cells": [
  {
   "cell_type": "code",
   "execution_count": 1,
   "metadata": {},
   "outputs": [
    {
     "data": {
      "text/plain": [
       "'d:\\\\ESP_workspace\\\\ESP\\\\research'"
      ]
     },
     "execution_count": 1,
     "metadata": {},
     "output_type": "execute_result"
    }
   ],
   "source": [
    "%pwd"
   ]
  },
  {
   "cell_type": "code",
   "execution_count": 2,
   "metadata": {},
   "outputs": [
    {
     "name": "stdout",
     "output_type": "stream",
     "text": [
      "d:\\ESP_workspace\\ESP\n"
     ]
    }
   ],
   "source": [
    "%cd d:\\\\ESP_workspace\\\\ESP"
   ]
  },
  {
   "cell_type": "code",
   "execution_count": 3,
   "metadata": {},
   "outputs": [
    {
     "data": {
      "text/plain": [
       "'d:\\\\ESP_workspace\\\\ESP'"
      ]
     },
     "execution_count": 3,
     "metadata": {},
     "output_type": "execute_result"
    }
   ],
   "source": [
    "%pwd"
   ]
  },
  {
   "cell_type": "code",
   "execution_count": 4,
   "metadata": {},
   "outputs": [],
   "source": [
    "\n",
    "from dataclasses import dataclass\n",
    "from pathlib import Path\n",
    "\n",
    "@dataclass(frozen=True)\n",
    "class DataTransformationConfig:\n",
    "    root_dir: Path\n",
    "    data_file: Path\n",
    "    JSON_extract: Path\n"
   ]
  },
  {
   "cell_type": "code",
   "execution_count": 5,
   "metadata": {},
   "outputs": [],
   "source": [
    "from src.mlProject.constants import *\n",
    "from src.mlProject.utils.common import *"
   ]
  },
  {
   "cell_type": "code",
   "execution_count": 6,
   "metadata": {},
   "outputs": [],
   "source": [
    "\n",
    "class ConfigurationManager:\n",
    "    def __init__(\n",
    "        self,\n",
    "        config_filepath = CONFIG_FILE_PATH,\n",
    "        params_filepath = PARAMS_FILE_PATH,\n",
    "        schema_filepath = SCHEMA_FILE_PATH):\n",
    "\n",
    "        self.config = read_yaml(config_filepath)\n",
    "        self.params = read_yaml(params_filepath)\n",
    "        self.schema = read_yaml(schema_filepath)\n",
    "\n",
    "        create_directories([self.config.artifacts_root])\n",
    "\n",
    "\n",
    "    \n",
    "    def get_data_transformation_config(self) -> DataTransformationConfig:\n",
    "        config = self.config.data_transformation\n",
    "\n",
    "        create_directories([config.root_dir])\n",
    "\n",
    "        data_transformation_config = DataTransformationConfig(\n",
    "            root_dir=config.root_dir,\n",
    "            data_file=config.data_file,\n",
    "            JSON_extract=config.JSON_extract\n",
    "        )\n",
    "\n",
    "        return data_transformation_config"
   ]
  },
  {
   "cell_type": "code",
   "execution_count": 7,
   "metadata": {},
   "outputs": [],
   "source": [
    "import os\n",
    "from src.mlProject import logger\n",
    "import pandas as pd"
   ]
  },
  {
   "cell_type": "code",
   "execution_count": 8,
   "metadata": {},
   "outputs": [],
   "source": [
    "class DataTransformation:\n",
    "    def __init__(self, config: DataTransformationConfig):\n",
    "        self.config = config\n",
    "\n",
    "\n",
    "    def extract_split(self):\n",
    "        print(Path(self.config.data_file))\n",
    "        \n",
    "        #content=load_json(Path(self.config.data_file))\n",
    "        df_attack, df_campaign, df_intrusion, df_malware, df_relationship = load_create_df(Path(self.config.data_file))\n",
    "        logger.info(\"Data_extracted and splitted\")\n",
    "        \n",
    "\n",
    "        df_relationship = df_relationship[df_relationship['relationship_type'].isin(['uses', 'subtechnique-of'])]\n",
    "        \n",
    "        attack_to_adversery(df_attack,df_relationship,df_intrusion,df_campaign,Path(self.config.JSON_extract))\n",
    "        \n",
    "\n",
    "        logger.info(\"JSON data_extracted and splitted\")\n",
    "\n",
    "        \n",
    "\n",
    "        "
   ]
  },
  {
   "cell_type": "code",
   "execution_count": 9,
   "metadata": {},
   "outputs": [
    {
     "name": "stdout",
     "output_type": "stream",
     "text": [
      "[2023-11-06 18:59:00,091: INFO: common: yaml file: config\\config.yaml loaded successfully]\n",
      "[2023-11-06 18:59:00,094: INFO: common: yaml file: params.yaml loaded successfully]\n",
      "[2023-11-06 18:59:00,096: INFO: common: yaml file: schema.yaml loaded successfully]\n",
      "[2023-11-06 18:59:00,097: INFO: common: created directory at: artifacts_root]\n",
      "[2023-11-06 18:59:00,099: INFO: common: created directory at: artifacts/data_transformation]\n",
      "artifacts\\data_ingestion\\data.json\n",
      "                                                    id  \\\n",
      "0    attack-pattern--0042a9f5-f053-4769-b3ef-9ad018...   \n",
      "1    attack-pattern--005a06c6-14bf-4118-afa0-ebcd8a...   \n",
      "2    attack-pattern--005cc321-08ce-4d17-b1ea-cb5275...   \n",
      "3    attack-pattern--00d0b012-8a03-410e-95de-5826bf...   \n",
      "4    attack-pattern--00f90846-cbd1-4fc5-9233-df5c2b...   \n",
      "..                                                 ...   \n",
      "763  attack-pattern--ff73aa03-0090-4464-83ac-f89e23...   \n",
      "764  attack-pattern--ffbcfdb0-de22-4106-9ed3-fc23c8...   \n",
      "765  attack-pattern--ffe59ad3-ad9b-4b9f-b74f-5beb3c...   \n",
      "766  attack-pattern--ffe742ed-9100-4686-9e00-c331da...   \n",
      "767  attack-pattern--ffeb0780-356e-4261-b036-cfb6bd...   \n",
      "\n",
      "                              name  x_mitre_is_subtechnique  \n",
      "0    Extra Window Memory Injection                     True  \n",
      "1                   Scheduled Task                     True  \n",
      "2                   Socket Filters                     True  \n",
      "3     Indicator Removal from Tools                    False  \n",
      "4              Archive via Utility                     True  \n",
      "..                             ...                      ...  \n",
      "763         System Shutdown/Reboot                    False  \n",
      "764                            MMC                     True  \n",
      "765      Process Argument Spoofing                     True  \n",
      "766           Windows Admin Shares                    False  \n",
      "767                   COR_PROFILER                     True  \n",
      "\n",
      "[768 rows x 3 columns]\n",
      "[2023-11-06 18:59:00,398: INFO: common: Data frame created for attack types ]\n",
      "[2023-11-06 18:59:00,526: INFO: common: Data frame created for malwares ]\n",
      "[2023-11-06 18:59:00,685: INFO: common: Data frame created for relationship types ]\n",
      "[2023-11-06 18:59:00,815: INFO: common: Data frame created for intrusion-sets]\n",
      "[2023-11-06 18:59:00,943: INFO: common: Data frame created for campaign types ]\n",
      "[2023-11-06 18:59:00,944: INFO: common: Data frames creation done ]\n",
      "[2023-11-06 18:59:00,957: INFO: 2607240163: Data_extracted and splitted]\n",
      "      relationship_type                                         source_ref  \\\n",
      "0                  uses      malware--6a21e3a4-5ffe-4581-af9a-6a54c7536f44   \n",
      "3                  uses  intrusion-set--01e28736-2ffc-455b-9880-ed4d140...   \n",
      "4                  uses      malware--425771c5-48b4-4ecd-9f95-74ed3fc9da59   \n",
      "5                  uses      malware--b7010785-699f-412f-ba49-524da6033c76   \n",
      "7                  uses      malware--a7881f21-e978-4fe4-af56-92c9416a2616   \n",
      "...                 ...                                                ...   \n",
      "18714              uses  intrusion-set--9559ecaf-2e75-48a7-aee8-9974020...   \n",
      "18715              uses  intrusion-set--9559ecaf-2e75-48a7-aee8-9974020...   \n",
      "18716              uses      malware--17e919aa-4a49-445c-b103-dbb8df9e7351   \n",
      "18717              uses      malware--ff6840c9-4c87-4d07-bbb6-9f50aa33d498   \n",
      "18718              uses  intrusion-set--9559ecaf-2e75-48a7-aee8-9974020...   \n",
      "\n",
      "                                              target_ref  \n",
      "0      attack-pattern--707399d6-ab3e-4963-9315-d9d381...  \n",
      "3      attack-pattern--65f2d882-3f41-4d48-8a06-29af77...  \n",
      "4      attack-pattern--bf176076-b789-408e-8cba-7275e8...  \n",
      "5      attack-pattern--132d5b37-aac5-4378-a8dc-3127b1...  \n",
      "7      attack-pattern--ca9d3402-ada3-484d-876a-d717bd...  \n",
      "...                                                  ...  \n",
      "18714      malware--e9595678-d269-469e-ae6b-75e49259de63  \n",
      "18715      malware--ab3580c8-8435-4117-aace-3d9fbe46aa56  \n",
      "18716  attack-pattern--b3d682b6-98f2-4fb0-aa3b-b4df00...  \n",
      "18717  attack-pattern--b21c3b2d-02e6-45b1-980b-e69051...  \n",
      "18718      malware--f5352566-1a64-49ac-8f7f-97e1d1a03300  \n",
      "\n",
      "[14815 rows x 3 columns]\n",
      "[2023-11-06 18:59:00,991: INFO: common: Table operations performed ]\n",
      "[2023-11-06 18:59:00,992: INFO: common:                                                attack_id  \\\n",
      "0      attack-pattern--0042a9f5-f053-4769-b3ef-9ad018...   \n",
      "1      attack-pattern--0042a9f5-f053-4769-b3ef-9ad018...   \n",
      "2      attack-pattern--005a06c6-14bf-4118-afa0-ebcd8a...   \n",
      "3      attack-pattern--005a06c6-14bf-4118-afa0-ebcd8a...   \n",
      "4      attack-pattern--005a06c6-14bf-4118-afa0-ebcd8a...   \n",
      "...                                                  ...   \n",
      "13940  attack-pattern--ffe59ad3-ad9b-4b9f-b74f-5beb3c...   \n",
      "13941  attack-pattern--ffe59ad3-ad9b-4b9f-b74f-5beb3c...   \n",
      "13942  attack-pattern--ffe742ed-9100-4686-9e00-c331da...   \n",
      "13943  attack-pattern--ffeb0780-356e-4261-b036-cfb6bd...   \n",
      "13944  attack-pattern--ffeb0780-356e-4261-b036-cfb6bd...   \n",
      "\n",
      "                         attack_name  is_subtechnique relationship_type  \\\n",
      "0      Extra Window Memory Injection             True              uses   \n",
      "1      Extra Window Memory Injection             True              uses   \n",
      "2                     Scheduled Task             True              uses   \n",
      "3                     Scheduled Task             True              uses   \n",
      "4                     Scheduled Task             True              uses   \n",
      "...                              ...              ...               ...   \n",
      "13940      Process Argument Spoofing             True              uses   \n",
      "13941      Process Argument Spoofing             True              uses   \n",
      "13942           Windows Admin Shares            False               NaN   \n",
      "13943                   COR_PROFILER             True              uses   \n",
      "13944                   COR_PROFILER             True              uses   \n",
      "\n",
      "                                              source_ref  \\\n",
      "0          malware--6b62e336-176f-417b-856a-8552dd8c44e1   \n",
      "1          malware--0a9c51e0-825d-4b9b-969d-ce86ed8ce3c3   \n",
      "2          malware--5c747acd-47f0-4c5a-b9e5-213541fc01e0   \n",
      "3          malware--f559f945-eb8b-48b1-904c-68568deebed3   \n",
      "4          malware--d1b7830a-fced-4be3-a99c-f495af9d9e1b   \n",
      "...                                                  ...   \n",
      "13940      malware--a7881f21-e978-4fe4-af56-92c9416a2616   \n",
      "13941      malware--425771c5-48b4-4ecd-9f95-74ed3fc9da59   \n",
      "13942                                                NaN   \n",
      "13943  intrusion-set--73a80fab-2aa3-48e0-a4d0-3a48282...   \n",
      "13944      malware--5faaf81a-aa5b-4a4b-bae5-522439e068f8   \n",
      "\n",
      "                                              target_ref  \\\n",
      "0      attack-pattern--0042a9f5-f053-4769-b3ef-9ad018...   \n",
      "1      attack-pattern--0042a9f5-f053-4769-b3ef-9ad018...   \n",
      "2      attack-pattern--005a06c6-14bf-4118-afa0-ebcd8a...   \n",
      "3      attack-pattern--005a06c6-14bf-4118-afa0-ebcd8a...   \n",
      "4      attack-pattern--005a06c6-14bf-4118-afa0-ebcd8a...   \n",
      "...                                                  ...   \n",
      "13940  attack-pattern--ffe59ad3-ad9b-4b9f-b74f-5beb3c...   \n",
      "13941  attack-pattern--ffe59ad3-ad9b-4b9f-b74f-5beb3c...   \n",
      "13942                                                NaN   \n",
      "13943  attack-pattern--ffeb0780-356e-4261-b036-cfb6bd...   \n",
      "13944  attack-pattern--ffeb0780-356e-4261-b036-cfb6bd...   \n",
      "\n",
      "                                            intrusion_id    intrusion_name  \\\n",
      "0                                                    NaN               NaN   \n",
      "1                                                    NaN               NaN   \n",
      "2                                                    NaN               NaN   \n",
      "3                                                    NaN               NaN   \n",
      "4                                                    NaN               NaN   \n",
      "...                                                  ...               ...   \n",
      "13940                                                NaN               NaN   \n",
      "13941                                                NaN               NaN   \n",
      "13942                                                NaN               NaN   \n",
      "13943  intrusion-set--73a80fab-2aa3-48e0-a4d0-3a48282...  Blue Mockingbird   \n",
      "13944                                                NaN               NaN   \n",
      "\n",
      "      campaign_id campaign_name  \n",
      "0             NaN           NaN  \n",
      "1             NaN           NaN  \n",
      "2             NaN           NaN  \n",
      "3             NaN           NaN  \n",
      "4             NaN           NaN  \n",
      "...           ...           ...  \n",
      "13940         NaN           NaN  \n",
      "13941         NaN           NaN  \n",
      "13942         NaN           NaN  \n",
      "13943         NaN           NaN  \n",
      "13944         NaN           NaN  \n",
      "\n",
      "[13945 rows x 10 columns]]\n",
      "[2023-11-06 18:59:01,521: INFO: common: Result dict made ]\n",
      "[2023-11-06 18:59:01,557: INFO: 2607240163: JSON data_extracted and splitted]\n"
     ]
    }
   ],
   "source": [
    "try:\n",
    "    config = ConfigurationManager()\n",
    "    data_transformation_config = config.get_data_transformation_config()\n",
    "    data_transformation = DataTransformation(config=data_transformation_config)\n",
    "    data_transformation.extract_split()\n",
    "except Exception as e:\n",
    "     raise e"
   ]
  },
  {
   "cell_type": "code",
   "execution_count": null,
   "metadata": {},
   "outputs": [],
   "source": []
  },
  {
   "cell_type": "code",
   "execution_count": null,
   "metadata": {},
   "outputs": [],
   "source": []
  }
 ],
 "metadata": {
  "kernelspec": {
   "display_name": "ESP",
   "language": "python",
   "name": "python3"
  },
  "language_info": {
   "codemirror_mode": {
    "name": "ipython",
    "version": 3
   },
   "file_extension": ".py",
   "mimetype": "text/x-python",
   "name": "python",
   "nbconvert_exporter": "python",
   "pygments_lexer": "ipython3",
   "version": "3.12.0"
  }
 },
 "nbformat": 4,
 "nbformat_minor": 2
}
